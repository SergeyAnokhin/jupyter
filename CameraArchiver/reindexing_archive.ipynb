{
 "cells": [
  {
   "cell_type": "code",
   "execution_count": 1,
   "metadata": {},
   "outputs": [],
   "source": [
    "import os\n",
    "from CameraArchiveHelper import CameraArchiveHelper\n",
    "from FileArchive import FileArchive\n",
    "from FileArchiveInfo import FileArchiveInfo\n",
    "helper = CameraArchiveHelper()"
   ]
  },
  {
   "cell_type": "code",
   "execution_count": 2,
   "metadata": {},
   "outputs": [
    {
     "name": "stdout",
     "output_type": "stream",
     "text": [
      "Load Config: konx-hd.json => KonxHD\n"
     ]
    }
   ],
   "source": [
    "configs = helper.load_configs('configs', ['KonxHD'])"
   ]
  },
  {
   "cell_type": "code",
   "execution_count": 3,
   "metadata": {},
   "outputs": [],
   "source": [
    "def is_eligible(root: str, filename: str):\n",
    "    ignore_files = ['Thumbs.db', 'index.dat']\n",
    "    if filename in ignore_files:\n",
    "        return False\n",
    "    return True"
   ]
  },
  {
   "cell_type": "code",
   "execution_count": null,
   "metadata": {
    "scrolled": false
   },
   "outputs": [
    {
     "name": "stdout",
     "output_type": "stream",
     "text": [
      "#### \\\\diskstation\\CameraArchive\\KonxHD ####\n",
      "#### \\\\diskstation\\CameraArchive\\KonxHD\\2019-02 ####\n",
      "#### \\\\diskstation\\CameraArchive\\KonxHD\\2019-02\\03 ####\n",
      "#### \\\\diskstation\\CameraArchive\\KonxHD\\2019-02\\04 ####\n"
     ]
    }
   ],
   "source": [
    "files = []\n",
    "for config in configs:\n",
    "    for root, dirnames, filenames in os.walk(config.path_to):\n",
    "        print('#### {} ####'.format(root))\n",
    "        for filename in filenames: #fnmatch.filter(filenames, '*.c'):\n",
    "            if not is_eligible(root, filename):\n",
    "                continue\n",
    "            full_filename = os.path.join(root, filename)\n",
    "            frm_to = FileArchiveInfo(config, config.path_to, full_filename)\n",
    "            file = FileArchive(config)\n",
    "            file.force_values(frm_to, frm_to)\n",
    "            \n",
    "            helper.report_to_elastic(file)\n",
    "            #break\n",
    "print('-- Finished')"
   ]
  },
  {
   "cell_type": "code",
   "execution_count": null,
   "metadata": {},
   "outputs": [],
   "source": []
  }
 ],
 "metadata": {
  "kernelspec": {
   "display_name": "Python 3",
   "language": "python",
   "name": "python3"
  },
  "language_info": {
   "codemirror_mode": {
    "name": "ipython",
    "version": 3
   },
   "file_extension": ".py",
   "mimetype": "text/x-python",
   "name": "python",
   "nbconvert_exporter": "python",
   "pygments_lexer": "ipython3",
   "version": "3.6.7"
  }
 },
 "nbformat": 4,
 "nbformat_minor": 2
}
