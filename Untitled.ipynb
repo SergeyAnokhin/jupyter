{
 "cells": [
  {
   "cell_type": "code",
   "execution_count": 5,
   "metadata": {
    "collapsed": true
   },
   "outputs": [],
   "source": [
    "str = 'toto'"
   ]
  },
  {
   "cell_type": "code",
   "execution_count": 8,
   "metadata": {
    "scrolled": true
   },
   "outputs": [
    {
     "name": "stdout",
     "output_type": "stream",
     "text": [
      "text : toto\n"
     ]
    }
   ],
   "source": [
    "print(f\"text : {str}\")"
   ]
  },
  {
   "cell_type": "code",
   "execution_count": 10,
   "metadata": {
    "collapsed": true
   },
   "outputs": [],
   "source": [
    "data = range(0, 100) "
   ]
  },
  {
   "cell_type": "code",
   "execution_count": 12,
   "metadata": {},
   "outputs": [
    {
     "name": "stdout",
     "output_type": "stream",
     "text": [
      "4\n"
     ]
    }
   ],
   "source": [
    "print()"
   ]
  },
  {
   "cell_type": "code",
   "execution_count": 25,
   "metadata": {},
   "outputs": [
    {
     "data": {
      "image/png": "[encoded data removed]",
      "text/plain": [
       "<matplotlib.figure.Figure at 0x5fa2110>"
      ]
     },
     "metadata": {},
     "output_type": "display_data"
    }
   ],
   "source": [
    "%matplotlib inline\n",
    "\n",
    "import matplotlib\n",
    "import numpy as np\n",
    "import matplotlib.pyplot as plt\n",
    "\n",
    "x = np.linspace(-2, 2, 500)\n",
    "plt.plot(x, 1/(1 + 25 * x**2))\n",
    "plt.title('Function test')\n",
    "plt.show()"
   ]
  },
  {
   "cell_type": "code",
   "execution_count": 26,
   "metadata": {},
   "outputs": [
    {
     "name": "stdout",
     "output_type": "stream",
     "text": [
      "b'{\\n  \"name\" : \"srmpQNk\",\\n  \"cluster_name\" : \"287978694785:es-domain\",\\n  \"cluster_uuid\" : \"-PSs0A_jQU2ZK5PGM7tTxQ\",\\n  \"version\" : {\\n    \"number\" : \"5.5.2\",\\n    \"build_hash\" : \"b2f0c09\",\\n    \"build_date\" : \"2017-08-21T22:31:55.076Z\",\\n    \"build_snapshot\" : false,\\n    \"lucene_version\" : \"6.6.0\"\\n  },\\n  \"tagline\" : \"You Know, for Search\"\\n}\\n'\n"
     ]
    }
   ],
   "source": [
    "# make sure ES is up and running\n",
    "import requests\n",
    "res = requests.get('https://????')\n",
    "print(res.content)"
   ]
  },
  {
   "cell_type": "code",
   "execution_count": 4,
   "metadata": {},
   "outputs": [
    {
     "data": {
      "text/plain": [
       "{'_id': 'AWAmTXnszcI0DKot8mcZ',\n",
       " '_index': 'history-2017.12.05',\n",
       " '_source': {'@timestamp': '2017-12-05T10:51:39.000Z',\n",
       "  '@version': 1,\n",
       "  'position': {'detail': 'Station',\n",
       "   'floor': 0,\n",
       "   'is_external': True,\n",
       "   'room': 'Villebon'},\n",
       "  'sensor': {'device': 'Rain - WWW',\n",
       "   'display': 'Villebon(.) Station',\n",
       "   'id': '3',\n",
       "   'target': '7_1',\n",
       "   'type': 'Rain',\n",
       "   'unit': ''},\n",
       "  'tags': ['domoticz_datapush', 'logstash'],\n",
       "  'type': 'measure',\n",
       "  'value': 0.0},\n",
       " '_type': 'measure',\n",
       " '_version': 1,\n",
       " 'found': True}"
      ]
     },
     "execution_count": 4,
     "metadata": {},
     "output_type": "execute_result"
    }
   ],
   "source": [
    "#connect to our cluster\n",
    "from elasticsearch import Elasticsearch\n",
    "es = Elasticsearch([{'host': '?????', 'port': 80}])\n",
    "es.get(index='history-2017.12.05', doc_type='measure', id='AWAmTXnszcI0DKot8mcZ')"
   ]
  },
  {
   "cell_type": "code",
   "execution_count": 1,
   "metadata": {},
   "outputs": [
    {
     "ename": "NameError",
     "evalue": "name 'es' is not defined",
     "output_type": "error",
     "traceback": [
      "\u001b[1;31m---------------------------------------------------------------------------\u001b[0m",
      "\u001b[1;31mNameError\u001b[0m                                 Traceback (most recent call last)",
      "\u001b[1;32m<ipython-input-1-62cf43a2ae99>\u001b[0m in \u001b[0;36m<module>\u001b[1;34m()\u001b[0m\n\u001b[1;32m----> 1\u001b[1;33m \u001b[0mes\u001b[0m\u001b[1;33m.\u001b[0m\u001b[0msearch\u001b[0m\u001b[1;33m(\u001b[0m\u001b[0mindex\u001b[0m\u001b[1;33m=\u001b[0m\u001b[1;34m\"history-2017.12.05\"\u001b[0m\u001b[1;33m,\u001b[0m \u001b[0mbody\u001b[0m\u001b[1;33m=\u001b[0m\u001b[1;33m{\u001b[0m\u001b[1;34m\"query\"\u001b[0m\u001b[1;33m:\u001b[0m \u001b[1;33m{\u001b[0m\u001b[1;34m\"match\"\u001b[0m\u001b[1;33m:\u001b[0m \u001b[1;33m{\u001b[0m\u001b[1;34m'tags'\u001b[0m\u001b[1;33m:\u001b[0m\u001b[1;34m'Darth Vader'\u001b[0m\u001b[1;33m}\u001b[0m\u001b[1;33m}\u001b[0m\u001b[1;33m}\u001b[0m\u001b[1;33m)\u001b[0m\u001b[1;33m\u001b[0m\u001b[0m\n\u001b[0m",
      "\u001b[1;31mNameError\u001b[0m: name 'es' is not defined"
     ]
    }
   ],
   "source": [
    "es.search(index=\"history-2017.12.05\", body={\"query\": {\"match\": {'tags':'Darth Vader'}}})"
   ]
  }
 ],
 "metadata": {
  "kernelspec": {
   "display_name": "Python 3",
   "language": "python",
   "name": "python3"
  },
  "language_info": {
   "codemirror_mode": {
    "name": "ipython",
    "version": 3
   },
   "file_extension": ".py",
   "mimetype": "text/x-python",
   "name": "python",
   "nbconvert_exporter": "python",
   "pygments_lexer": "ipython3",
   "version": "3.6.3"
  }
 },
 "nbformat": 4,
 "nbformat_minor": 2
}
