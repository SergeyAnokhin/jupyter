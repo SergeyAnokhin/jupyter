{
 "cells": [
  {
   "cell_type": "code",
   "execution_count": 1,
   "metadata": {},
   "outputs": [],
   "source": [
    "# (D:\\Prog\\Anaconda) C:\\Users\\star>conda install -c menpo opencv\n",
    "import cv2\n",
    "import numpy as np"
   ]
  },
  {
   "cell_type": "markdown",
   "metadata": {},
   "source": [
    "#### Lilia & Gate"
   ]
  },
  {
   "cell_type": "code",
   "execution_count": 2,
   "metadata": {},
   "outputs": [],
   "source": [
    "img1 = cv2.imread('Foscam\\\\Day_Lilia_Gate\\\\Snap_20190206-090254-0.jpg',cv2.IMREAD_GRAYSCALE)\n",
    "img2_color = cv2.imread('Foscam\\\\Day_Lilia_Gate\\\\Snap_20190206-090254-1.jpg',cv2.IMREAD_COLOR)\n",
    "img2 = cv2.imread('Foscam\\\\Day_Lilia_Gate\\\\Snap_20190206-090254-1.jpg',cv2.IMREAD_GRAYSCALE)\n",
    "img3 = cv2.imread('Foscam\\\\Day_Lilia_Gate\\\\Snap_20190206-090254-2.jpg',cv2.IMREAD_GRAYSCALE)"
   ]
  },
  {
   "cell_type": "markdown",
   "metadata": {},
   "source": [
    "#### Birds"
   ]
  },
  {
   "cell_type": "code",
   "execution_count": 16,
   "metadata": {},
   "outputs": [],
   "source": [
    "img1 = cv2.imread('Foscam\\\\Day_bird\\\\Snap_20190206-114342-0.jpg',cv2.IMREAD_GRAYSCALE)\n",
    "img2_color = cv2.imread('Foscam\\\\Day_bird\\\\Snap_20190206-114342-1.jpg',cv2.IMREAD_COLOR)\n",
    "img2 = cv2.imread('Foscam\\\\Day_bird\\\\Snap_20190206-114342-1.jpg',cv2.IMREAD_GRAYSCALE)\n",
    "img3 = cv2.imread('Foscam\\\\Day_bird\\\\Snap_20190206-114342-2.jpg',cv2.IMREAD_GRAYSCALE)"
   ]
  },
  {
   "cell_type": "markdown",
   "metadata": {},
   "source": [
    "### Show Image"
   ]
  },
  {
   "cell_type": "code",
   "execution_count": 25,
   "metadata": {},
   "outputs": [],
   "source": [
    "cv2.imshow('Source',img1)\n",
    "cv2.waitKey(0)\n",
    "cv2.destroyAllWindows()"
   ]
  },
  {
   "cell_type": "markdown",
   "metadata": {},
   "source": [
    "### Show image diff"
   ]
  },
  {
   "cell_type": "code",
   "execution_count": 17,
   "metadata": {},
   "outputs": [],
   "source": [
    "diff = cv2.absdiff(img2, img3)\n",
    "blur = cv2.GaussianBlur(diff, (5,5), 0)"
   ]
  },
  {
   "cell_type": "code",
   "execution_count": 19,
   "metadata": {},
   "outputs": [
    {
     "name": "stdout",
     "output_type": "stream",
     "text": [
      "Contour: 866.0\n",
      "Contour: 425.5\n",
      "Contour: 500.0\n"
     ]
    }
   ],
   "source": [
    "ret, th = cv2.threshold(blur, 40, 255, cv2.THRESH_BINARY)\n",
    "dilated = cv2.dilate(th, np.ones((10, 10), np.uint8))\n",
    "img, cnts, h = cv2.findContours(dilated, cv2.RETR_TREE, cv2.CHAIN_APPROX_SIMPLE)\n",
    "img = img2_color.copy()\n",
    "cv2.drawContours(img, cnts, -1, (0,255,0), 2)\n",
    "\n",
    "for c in cnts:\n",
    "    area = cv2.contourArea(c)\n",
    "    if cv2.contourArea(c) < 100:\n",
    "        continue\n",
    "    print('Contour: {}'.format(area))\n",
    "        \n",
    "    (x, y, w, h) = cv2.boundingRect(c)\n",
    "    cv2.rectangle(img, (x, y), (x + w, y + h), (0, 255, 0), 2)\n",
    "\n",
    "cv2.imshow('Diff', img)\n",
    "cv2.waitKey(0)\n",
    "cv2.destroyAllWindows()"
   ]
  },
  {
   "cell_type": "markdown",
   "metadata": {},
   "source": [
    "### Haar Face"
   ]
  },
  {
   "cell_type": "code",
   "execution_count": 9,
   "metadata": {},
   "outputs": [
    {
     "data": {
      "text/plain": [
       "13"
      ]
     },
     "execution_count": 9,
     "metadata": {},
     "output_type": "execute_result"
    }
   ],
   "source": [
    "#cascadePath = \"haarcascade_fullbody.xml\"\n",
    "cascadePath = \"haarcascade_frontalface_alt.xml\"\n",
    "cascade = cv2.CascadeClassifier(cascadePath)\n",
    "image = cv2.imread('ludi3.jpg',cv2.IMREAD_GRAYSCALE)\n",
    "objects = cascade.detectMultiScale(image, scaleFactor=1.1, minNeighbors=1, minSize=(30, 30))\n",
    "len(objects)"
   ]
  },
  {
   "cell_type": "code",
   "execution_count": 10,
   "metadata": {},
   "outputs": [],
   "source": [
    "for (x, y, w, h) in objects:\n",
    "    crop = image[y: y + h, x: x + w]\n",
    "    cv2.rectangle(image,(x,y),(x+w,y+h),(128,128,128),2)\n",
    "cv2.imshow(\"\", image)\n",
    "cv2.waitKey(0)\n",
    "cv2.destroyAllWindows()"
   ]
  },
  {
   "cell_type": "markdown",
   "metadata": {},
   "source": [
    "### Haar Body"
   ]
  },
  {
   "cell_type": "code",
   "execution_count": 5,
   "metadata": {},
   "outputs": [
    {
     "data": {
      "text/plain": [
       "3"
      ]
     },
     "execution_count": 5,
     "metadata": {},
     "output_type": "execute_result"
    }
   ],
   "source": [
    "cascadePath = \"haarcascade_fullbody.xml\"\n",
    "#cascadePath = \"haarcascade_upperbody.xml\"\n",
    "cascade = cv2.CascadeClassifier(cascadePath)\n",
    "image = cv2.imread('ludi3.jpg',cv2.IMREAD_COLOR)\n",
    "objects = cascade.detectMultiScale(image, scaleFactor=1.1, minNeighbors=1, minSize=(60, 60))\n",
    "len(objects)"
   ]
  },
  {
   "cell_type": "code",
   "execution_count": 6,
   "metadata": {},
   "outputs": [],
   "source": [
    "for (x, y, w, h) in objects:\n",
    "    crop = image[y: y + h, x: x + w]\n",
    "    cv2.rectangle(image,(x,y),(x+w,y+h),(0,256,0),4)\n",
    "cv2.imshow(\"\", image)\n",
    "cv2.waitKey(0)\n",
    "cv2.destroyAllWindows()"
   ]
  },
  {
   "cell_type": "code",
   "execution_count": null,
   "metadata": {},
   "outputs": [],
   "source": []
  }
 ],
 "metadata": {
  "kernelspec": {
   "display_name": "Python 3",
   "language": "python",
   "name": "python3"
  },
  "language_info": {
   "codemirror_mode": {
    "name": "ipython",
    "version": 3
   },
   "file_extension": ".py",
   "mimetype": "text/x-python",
   "name": "python",
   "nbconvert_exporter": "python",
   "pygments_lexer": "ipython3",
   "version": "3.7.0"
  }
 },
 "nbformat": 4,
 "nbformat_minor": 2
}
