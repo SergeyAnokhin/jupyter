{
 "cells": [
  {
   "cell_type": "code",
   "execution_count": 1,
   "metadata": {
    "collapsed": true
   },
   "outputs": [],
   "source": [
    "%matplotlib inline"
   ]
  },
  {
   "cell_type": "markdown",
   "metadata": {},
   "source": [
    "\n",
    "===================================================================\n",
    "Support Vector Regression (SVR) using linear and non-linear kernels\n",
    "===================================================================\n",
    "\n",
    "Toy example of 1D regression using linear, polynomial and RBF kernels.\n",
    "\n",
    "\n"
   ]
  },
  {
   "cell_type": "code",
   "execution_count": 3,
   "metadata": {},
   "outputs": [
    {
     "name": "stdout",
     "output_type": "stream",
     "text": [
      "Automatically created module for IPython interactive environment\n"
     ]
    },
    {
     "data": {
      "text/plain": [
       "array([[-0.93524978],\n",
       "       [-0.77554274],\n",
       "       [-0.72660776],\n",
       "       [-0.72423858],\n",
       "       [-0.60526451],\n",
       "       [-0.58483453],\n",
       "       [-0.50054765],\n",
       "       [-0.42592395],\n",
       "       [-0.39721363],\n",
       "       [-0.36830413],\n",
       "       [-0.34088174],\n",
       "       [-0.31983304],\n",
       "       [-0.30118222],\n",
       "       [-0.29805355],\n",
       "       [-0.29371635],\n",
       "       [-0.2782946 ],\n",
       "       [-0.13048085],\n",
       "       [-0.12625009],\n",
       "       [-0.05037296],\n",
       "       [ 0.02635759],\n",
       "       [ 0.03333104],\n",
       "       [ 0.04329194],\n",
       "       [ 0.07052072],\n",
       "       [ 0.1337154 ],\n",
       "       [ 0.13814162],\n",
       "       [ 0.18174902],\n",
       "       [ 0.23506394],\n",
       "       [ 0.24309351],\n",
       "       [ 0.27444581],\n",
       "       [ 0.37008645],\n",
       "       [ 0.40291178],\n",
       "       [ 0.50883352],\n",
       "       [ 0.54598928],\n",
       "       [ 0.72137315],\n",
       "       [ 0.73116133],\n",
       "       [ 0.76603532],\n",
       "       [ 0.77952074],\n",
       "       [ 0.84943642],\n",
       "       [ 0.87923546],\n",
       "       [ 0.96713364]])"
      ]
     },
     "metadata": {},
     "output_type": "display_data"
    },
    {
     "data": {
      "text/plain": [
       "array([ 1.36096357,  1.27989342,  1.25120345,  1.24980304,  1.18055711,\n",
       "        1.16920499,  1.12525471,  1.09107519,  1.07926734,  1.06817158,\n",
       "        1.05839929,  1.0514028 ,  1.04557283,  1.04462901,  1.04333689,\n",
       "        1.03889582,  1.00852387,  1.00797945,  1.00126898,  1.00034738,\n",
       "        1.00055553,  1.00093724,  1.0024876 ,  1.00895226,  1.00955556,\n",
       "        1.01655576,  1.0277264 ,  1.02965806,  1.03782484,  1.06883224,\n",
       "        1.081549  ,  1.1293419 ,  1.14832265,  1.24810879,  1.25389366,\n",
       "        1.27437256,  1.28219234,  1.3209498 ,  1.33606542,  1.37246699])"
      ]
     },
     "metadata": {},
     "output_type": "display_data"
    },
    {
     "data": {
      "image/png": "[encoded data removed]",
      "text/plain": [
       "<matplotlib.figure.Figure at 0xab83710>"
      ]
     },
     "metadata": {},
     "output_type": "display_data"
    }
   ],
   "source": [
    "print(__doc__)\n",
    "\n",
    "import numpy as np\n",
    "from sklearn.svm import SVR\n",
    "import matplotlib.pyplot as plt\n",
    "\n",
    "# #############################################################################\n",
    "# Generate sample data\n",
    "X = np.sort(2 * np.random.rand(40, 1), axis=0) - 1.0\n",
    "display(X)\n",
    "y = (np.cos(X) + np.sin(X**2) ).ravel()\n",
    "display(y)\n",
    "\n",
    "# #############################################################################\n",
    "# Add noise to targets\n",
    "# y[::5] += 3 * (0.5 - np.random.rand(8))\n",
    "\n",
    "# #############################################################################\n",
    "# Fit regression model\n",
    "svr_rbf = SVR(kernel='rbf', C=1e3, gamma=0.5)\n",
    "svr_lin = SVR(kernel='linear', C=1e3)\n",
    "svr_poly = SVR(kernel='poly', C=1e3, degree=2)\n",
    "y_rbf = svr_rbf.fit(X, y).predict(X)\n",
    "y_lin = svr_lin.fit(X, y).predict(X)\n",
    "y_poly = svr_poly.fit(X, y).predict(X)\n",
    "\n",
    "# #############################################################################\n",
    "# Look at the results\n",
    "lw = 1\n",
    "plt.scatter(X, y, color='darkorange', label='data')\n",
    "plt.plot(X, y_rbf, color='navy', lw=lw, label='RBF model')\n",
    "plt.plot(X, y_lin, color='c', lw=lw, label='Linear model')\n",
    "plt.plot(X, y_poly, color='cornflowerblue', lw=lw, label='Polynomial model')\n",
    "plt.xlabel('data')\n",
    "plt.ylabel('target')\n",
    "plt.title('Support Vector Regression')\n",
    "plt.legend()\n",
    "plt.show()"
   ]
  }
 ],
 "metadata": {
  "kernelspec": {
   "display_name": "Python 3",
   "language": "python",
   "name": "python3"
  },
  "language_info": {
   "codemirror_mode": {
    "name": "ipython",
    "version": 3
   },
   "file_extension": ".py",
   "mimetype": "text/x-python",
   "name": "python",
   "nbconvert_exporter": "python",
   "pygments_lexer": "ipython3",
   "version": "3.6.3"
  }
 },
 "nbformat": 4,
 "nbformat_minor": 1
}
