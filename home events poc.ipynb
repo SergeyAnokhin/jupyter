{
 "cells": [
  {
   "cell_type": "code",
   "execution_count": 1,
   "metadata": {
    "collapsed": true
   },
   "outputs": [],
   "source": [
    "# %matplotlib inline\n",
    "import matplotlib\n",
    "import matplotlib.pyplot as plt\n",
    "import numpy as np\n",
    "from sklearn.model_selection import train_test_split\n",
    "from sklearn.preprocessing import StandardScaler\n",
    "from sklearn.datasets import make_moons, make_circles, make_classification\n",
    "from sklearn.neural_network import MLPClassifier\n",
    "from sklearn.neighbors import KNeighborsClassifier\n",
    "from sklearn.svm import SVC\n",
    "from sklearn.gaussian_process import GaussianProcessClassifier\n",
    "from sklearn.gaussian_process.kernels import RBF\n",
    "from sklearn.tree import DecisionTreeClassifier\n",
    "from sklearn.ensemble import RandomForestClassifier, AdaBoostClassifier\n",
    "from sklearn.naive_bayes import GaussianNB\n",
    "from sklearn.discriminant_analysis import QuadraticDiscriminantAnalysis"
   ]
  },
  {
   "cell_type": "code",
   "execution_count": 26,
   "metadata": {
    "collapsed": true
   },
   "outputs": [],
   "source": [
    "classifiers = {\n",
    "        \"Nearest Neighbors\":    KNeighborsClassifier(3),\n",
    "        \"Linear SVM\":           SVC(kernel=\"linear\", C=0.025),\n",
    "        \"RBF SVM\":              SVC(gamma=2, C=1),\n",
    "        \"Gaussian Process\":     GaussianProcessClassifier(1.0 * RBF(1.0)),\n",
    "        \"Decision Tree\":        DecisionTreeClassifier(max_depth=5),\n",
    "        \"Random Forest\":        RandomForestClassifier(max_depth=5, n_estimators=10, max_features=1),\n",
    "        #\"Neural Net\":           MLPClassifier(alpha=1),\n",
    "        \"AdaBoost\":             AdaBoostClassifier(),\n",
    "        \"Naive Bayes\":          GaussianNB(),\n",
    "        #\"QDA\":                  QuadraticDiscriminantAnalysis()\n",
    "    }\n",
    "\n",
    "hall0Pir = ('hall0Pir', 0)\n",
    "hall0door = ('hall0door', 1)\n",
    "cameraFront = ('cameraFront', 2)\n",
    "cameraBack = ('cameraBack', 3)\n",
    "corridor1Pir = ('corridor1Pir', 4)"
   ]
  },
  {
   "cell_type": "code",
   "execution_count": 27,
   "metadata": {},
   "outputs": [
    {
     "data": {
      "text/plain": [
       "'alert'"
      ]
     },
     "metadata": {},
     "output_type": "display_data"
    },
    {
     "data": {
      "text/plain": [
       "[[0, 0, 0, 0, 1, 0],\n",
       " [1, 1, 0, 0, 0, 0],\n",
       " [0, 0, 0, 0, 0, 0],\n",
       " [0, 0, 0, 0, 0, 0],\n",
       " [0, 0, 0, 0, 0, 0],\n",
       " [0, 0, 0, 0, 0, 0],\n",
       " [0, 0, 0, 0, 0, 0],\n",
       " [0, 0, 0, 0, 0, 0],\n",
       " [0, 0, 0, 0, 0, 0],\n",
       " [0, 0, 1, 0, 0, 0]]"
      ]
     },
     "metadata": {},
     "output_type": "display_data"
    },
    {
     "data": {
      "text/plain": [
       "'alert'"
      ]
     },
     "metadata": {},
     "output_type": "display_data"
    },
    {
     "data": {
      "text/plain": [
       "[[0, 0, 0, 0, 1, 0],\n",
       " [1, 0, 0, 0, 0, 0],\n",
       " [0, 0, 0, 0, 0, 0],\n",
       " [0, 0, 0, 0, 0, 0],\n",
       " [0, 0, 0, 0, 0, 0],\n",
       " [0, 0, 0, 0, 0, 0],\n",
       " [0, 0, 0, 0, 0, 0],\n",
       " [0, 0, 0, 0, 0, 0],\n",
       " [0, 0, 0, 0, 0, 0],\n",
       " [0, 0, 0, 1, 0, 0]]"
      ]
     },
     "metadata": {},
     "output_type": "display_data"
    },
    {
     "data": {
      "text/plain": [
       "'alert'"
      ]
     },
     "metadata": {},
     "output_type": "display_data"
    },
    {
     "data": {
      "text/plain": [
       "[[0, 0, 0, 0, 1, 0],\n",
       " [1, 0, 0, 0, 0, 0],\n",
       " [0, 0, 0, 0, 0, 0],\n",
       " [0, 0, 0, 0, 0, 0],\n",
       " [0, 0, 0, 0, 0, 0],\n",
       " [0, 0, 0, 0, 0, 0],\n",
       " [0, 0, 0, 0, 0, 0],\n",
       " [0, 0, 0, 0, 0, 0],\n",
       " [0, 0, 0, 1, 0, 0],\n",
       " [0, 0, 1, 0, 0, 0]]"
      ]
     },
     "metadata": {},
     "output_type": "display_data"
    },
    {
     "data": {
      "text/plain": [
       "'master_come'"
      ]
     },
     "metadata": {},
     "output_type": "display_data"
    },
    {
     "data": {
      "text/plain": [
       "[[0, 0, 0, 0, 1, 0],\n",
       " [0, 0, 0, 0, 0, 0],\n",
       " [0, 0, 0, 0, 0, 0],\n",
       " [0, 0, 0, 0, 0, 0],\n",
       " [0, 0, 0, 0, 0, 0],\n",
       " [1, 1, 0, 0, 0, 0],\n",
       " [0, 0, 1, 0, 0, 0],\n",
       " [0, 0, 0, 0, 0, 0],\n",
       " [0, 0, 0, 0, 0, 0],\n",
       " [0, 0, 0, 0, 0, 0]]"
      ]
     },
     "metadata": {},
     "output_type": "display_data"
    },
    {
     "data": {
      "text/plain": [
       "'masterChild_come'"
      ]
     },
     "metadata": {},
     "output_type": "display_data"
    },
    {
     "data": {
      "text/plain": [
       "[[0, 0, 0, 0, 1, 0],\n",
       " [0, 0, 0, 0, 0, 0],\n",
       " [0, 0, 0, 0, 0, 0],\n",
       " [0, 0, 0, 0, 0, 0],\n",
       " [0, 0, 0, 0, 0, 0],\n",
       " [1, 1, 0, 0, 0, 0],\n",
       " [0, 0, 0, 0, 0, 0],\n",
       " [0, 0, 0, 0, 0, 0],\n",
       " [0, 0, 0, 0, 0, 0],\n",
       " [0, 0, 1, 0, 0, 0]]"
      ]
     },
     "metadata": {},
     "output_type": "display_data"
    },
    {
     "data": {
      "text/plain": [
       "'anomalie'"
      ]
     },
     "metadata": {},
     "output_type": "display_data"
    },
    {
     "data": {
      "text/plain": [
       "[[0, 0, 0, 0, 1, 0],\n",
       " [0, 0, 0, 0, 0, 0],\n",
       " [0, 0, 0, 0, 0, 0],\n",
       " [0, 0, 0, 0, 0, 0],\n",
       " [0, 0, 0, 0, 0, 0],\n",
       " [0, 0, 0, 0, 0, 0],\n",
       " [0, 0, 0, 0, 0, 0],\n",
       " [0, 0, 0, 0, 0, 0],\n",
       " [0, 0, 0, 0, 0, 0],\n",
       " [0, 0, 0, 0, 0, 0]]"
      ]
     },
     "metadata": {},
     "output_type": "display_data"
    },
    {
     "data": {
      "text/plain": [
       "'anomalie'"
      ]
     },
     "metadata": {},
     "output_type": "display_data"
    },
    {
     "data": {
      "text/plain": [
       "[[1, 0, 0, 0, 0, 0],\n",
       " [0, 0, 0, 0, 0, 0],\n",
       " [0, 0, 0, 0, 0, 0],\n",
       " [0, 0, 0, 0, 0, 0],\n",
       " [0, 0, 0, 0, 0, 0],\n",
       " [0, 0, 0, 0, 0, 0],\n",
       " [0, 0, 0, 0, 0, 0],\n",
       " [0, 0, 0, 0, 0, 0],\n",
       " [0, 0, 0, 0, 0, 0],\n",
       " [0, 0, 0, 0, 0, 0]]"
      ]
     },
     "metadata": {},
     "output_type": "display_data"
    }
   ],
   "source": [
    "%run home_events_poc.py\n",
    "ctx = HomeEventsContext()\n",
    "\n",
    "ctx.AddSequence('alert', {\n",
    "    0 : corridor1Pir,\n",
    "    1 : [hall0Pir, hall0door],\n",
    "    9 : cameraFront\n",
    "})\n",
    "\n",
    "ctx.AddSequence('alert', {\n",
    "    0 : corridor1Pir,\n",
    "    1 : hall0Pir,\n",
    "    9 : cameraBack\n",
    "})\n",
    "\n",
    "ctx.AddSequence('alert', {\n",
    "    0 : corridor1Pir,\n",
    "    1 : hall0Pir,\n",
    "    8 : cameraBack,\n",
    "    9 : cameraFront\n",
    "})\n",
    "\n",
    "ctx.AddSequence('master_come', {\n",
    "    0 : corridor1Pir,\n",
    "    5 : [hall0Pir, hall0door],\n",
    "    6 : cameraFront\n",
    "})\n",
    "\n",
    "ctx.AddSequence('masterChild_come', {\n",
    "    0 : corridor1Pir,\n",
    "    5 : [hall0Pir, hall0door],\n",
    "    9 : cameraFront\n",
    "})\n",
    "\n",
    "ctx.AddSequence('anomalie', {\n",
    "    0 : corridor1Pir,\n",
    "})\n",
    "\n",
    "ctx.AddSequence('anomalie', {\n",
    "    0 : hall0Pir,\n",
    "})\n",
    "\n",
    "for i, n in zip(ctx.images_X, ctx.images_Y):\n",
    "    display(n, i)"
   ]
  },
  {
   "cell_type": "code",
   "execution_count": 29,
   "metadata": {},
   "outputs": [
    {
     "data": {
      "text/plain": [
       "'Nearest Neighbors'"
      ]
     },
     "metadata": {},
     "output_type": "display_data"
    },
    {
     "data": {
      "text/plain": [
       "array(['anomalie'],\n",
       "      dtype='<U16')"
      ]
     },
     "metadata": {},
     "output_type": "display_data"
    },
    {
     "data": {
      "text/plain": [
       "'Linear SVM'"
      ]
     },
     "metadata": {},
     "output_type": "display_data"
    },
    {
     "data": {
      "text/plain": [
       "array(['alert'],\n",
       "      dtype='<U16')"
      ]
     },
     "metadata": {},
     "output_type": "display_data"
    },
    {
     "data": {
      "text/plain": [
       "'RBF SVM'"
      ]
     },
     "metadata": {},
     "output_type": "display_data"
    },
    {
     "data": {
      "text/plain": [
       "array(['anomalie'],\n",
       "      dtype='<U16')"
      ]
     },
     "metadata": {},
     "output_type": "display_data"
    },
    {
     "data": {
      "text/plain": [
       "'Gaussian Process'"
      ]
     },
     "metadata": {},
     "output_type": "display_data"
    },
    {
     "data": {
      "text/plain": [
       "array(['anomalie'],\n",
       "      dtype='<U16')"
      ]
     },
     "metadata": {},
     "output_type": "display_data"
    },
    {
     "data": {
      "text/plain": [
       "'Decision Tree'"
      ]
     },
     "metadata": {},
     "output_type": "display_data"
    },
    {
     "data": {
      "text/plain": [
       "array(['anomalie'],\n",
       "      dtype='<U16')"
      ]
     },
     "metadata": {},
     "output_type": "display_data"
    },
    {
     "data": {
      "text/plain": [
       "'Random Forest'"
      ]
     },
     "metadata": {},
     "output_type": "display_data"
    },
    {
     "data": {
      "text/plain": [
       "array(['anomalie'],\n",
       "      dtype='<U16')"
      ]
     },
     "metadata": {},
     "output_type": "display_data"
    },
    {
     "data": {
      "text/plain": [
       "'AdaBoost'"
      ]
     },
     "metadata": {},
     "output_type": "display_data"
    },
    {
     "data": {
      "text/plain": [
       "array(['anomalie'],\n",
       "      dtype='<U16')"
      ]
     },
     "metadata": {},
     "output_type": "display_data"
    },
    {
     "data": {
      "text/plain": [
       "'Naive Bayes'"
      ]
     },
     "metadata": {},
     "output_type": "display_data"
    },
    {
     "data": {
      "text/plain": [
       "array(['anomalie'],\n",
       "      dtype='<U16')"
      ]
     },
     "metadata": {},
     "output_type": "display_data"
    }
   ],
   "source": [
    "X = np.asarray(images_X).reshape(len(images_Y), 60)\n",
    "Y = np.asarray(images_Y)\n",
    "\n",
    "X_pred1 = [[1, 0, 0, 0, 0, 0],\n",
    " [0, 0, 0, 0, 0, 0],\n",
    " [0, 0, 0, 0, 0, 0],\n",
    " [0, 0, 0, 0, 0, 0],\n",
    " [0, 0, 0, 0, 0, 0],\n",
    " [0, 0, 0, 0, 0, 0],\n",
    " [0, 0, 0, 0, 0, 0],\n",
    " [0, 0, 0, 0, 0, 0],\n",
    " [0, 0, 0, 0, 0, 0],\n",
    "          [0, 0, 0, 0, 0, 0]]\n",
    "X_pred = np.asarray(X_pred1).reshape(1, 60)\n",
    "\n",
    "\n",
    "for c in classifiers:\n",
    "    display(c)\n",
    "    clf = classifiers[c]\n",
    "    clf.fit(X, Y)\n",
    "    display(clf.predict(X_pred))"
   ]
  },
  {
   "cell_type": "code",
   "execution_count": null,
   "metadata": {
    "collapsed": true
   },
   "outputs": [],
   "source": []
  }
 ],
 "metadata": {
  "kernelspec": {
   "display_name": "Python 3",
   "language": "python",
   "name": "python3"
  },
  "language_info": {
   "codemirror_mode": {
    "name": "ipython",
    "version": 3
   },
   "file_extension": ".py",
   "mimetype": "text/x-python",
   "name": "python",
   "nbconvert_exporter": "python",
   "pygments_lexer": "ipython3",
   "version": "3.6.3"
  }
 },
 "nbformat": 4,
 "nbformat_minor": 2
}
