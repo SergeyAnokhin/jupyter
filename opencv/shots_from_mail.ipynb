{
 "cells": [
  {
   "cell_type": "code",
   "execution_count": 1,
   "metadata": {},
   "outputs": [],
   "source": [
    "# (D:\\Prog\\Anaconda) C:\\Users\\star>conda install -c menpo opencv\n",
    "import cv2\n",
    "import numpy as np"
   ]
  },
  {
   "cell_type": "code",
   "execution_count": 2,
   "metadata": {},
   "outputs": [],
   "source": [
    "img1 = cv2.imread('Snap_20190206-090254-0.jpg',cv2.IMREAD_GRAYSCALE)\n",
    "img2 = cv2.imread('Snap_20190206-090254-1.jpg',cv2.IMREAD_GRAYSCALE)\n",
    "img3 = cv2.imread('Snap_20190206-090254-2.jpg',cv2.IMREAD_GRAYSCALE)"
   ]
  },
  {
   "cell_type": "markdown",
   "metadata": {},
   "source": [
    "### Show Image"
   ]
  },
  {
   "cell_type": "code",
   "execution_count": 4,
   "metadata": {},
   "outputs": [],
   "source": [
    "cv2.imshow('Source',img1)\n",
    "cv2.waitKey(0)\n",
    "cv2.destroyAllWindows()"
   ]
  },
  {
   "cell_type": "markdown",
   "metadata": {},
   "source": [
    "### Show image diff"
   ]
  },
  {
   "cell_type": "code",
   "execution_count": null,
   "metadata": {},
   "outputs": [],
   "source": [
    "diff = cv2.absdiff(img2, img1)\n",
    "cv2.imshow('Diff',diff)\n",
    "cv2.waitKey(0)\n",
    "cv2.destroyAllWindows()"
   ]
  },
  {
   "cell_type": "markdown",
   "metadata": {},
   "source": [
    "### Haar Face"
   ]
  },
  {
   "cell_type": "code",
   "execution_count": 53,
   "metadata": {},
   "outputs": [],
   "source": [
    "#cascadePath = \"haarcascade_fullbody.xml\"\n",
    "cascadePath = \"haarcascade_frontalface_alt.xml\"\n",
    "bodyCascade = cv2.CascadeClassifier(cascadePath)"
   ]
  },
  {
   "cell_type": "code",
   "execution_count": 56,
   "metadata": {},
   "outputs": [
    {
     "data": {
      "text/plain": [
       "13"
      ]
     },
     "execution_count": 56,
     "metadata": {},
     "output_type": "execute_result"
    }
   ],
   "source": [
    "image = cv2.imread('ludi3.jpg',cv2.IMREAD_GRAYSCALE)\n",
    "bodies = bodyCascade.detectMultiScale(image, scaleFactor=1.1, minNeighbors=1, minSize=(30, 30))\n",
    "len(bodies)"
   ]
  },
  {
   "cell_type": "code",
   "execution_count": 57,
   "metadata": {},
   "outputs": [],
   "source": [
    "images = []\n",
    "labels = []\n",
    "subject_number = '1'\n",
    "for (x, y, w, h) in bodies:\n",
    "    images.append(image[y: y + h, x: x + w])\n",
    "    labels.append(subject_number)\n",
    "    # В окне показываем изображение\n",
    "    cv2.imshow(\"\", image[y: y + h, x: x + w])\n",
    "    cv2.waitKey(0)\n",
    "cv2.destroyAllWindows()"
   ]
  },
  {
   "cell_type": "code",
   "execution_count": null,
   "metadata": {},
   "outputs": [],
   "source": []
  }
 ],
 "metadata": {
  "kernelspec": {
   "display_name": "Python 3",
   "language": "python",
   "name": "python3"
  },
  "language_info": {
   "codemirror_mode": {
    "name": "ipython",
    "version": 3
   },
   "file_extension": ".py",
   "mimetype": "text/x-python",
   "name": "python",
   "nbconvert_exporter": "python",
   "pygments_lexer": "ipython3",
   "version": "3.7.0"
  }
 },
 "nbformat": 4,
 "nbformat_minor": 2
}
