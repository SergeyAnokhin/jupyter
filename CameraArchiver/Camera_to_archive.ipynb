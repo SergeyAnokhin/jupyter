{
 "cells": [
  {
   "cell_type": "code",
   "execution_count": 12,
   "metadata": {},
   "outputs": [],
   "source": [
    "import os\n",
    "import json\n",
    "import shutil\n",
    "import re\n",
    "import sys\n",
    "import datetime\n",
    "from pprint import pprint\n",
    "import json\n",
    "from CameraArchiveHelper import report_to_elastic\n",
    "from CameraArchiveConfig import CameraArchiveConfig\n",
    "from FileArchiveInfo import FileArchiveInfo\n",
    "from FileArchive import FileArchive"
   ]
  },
  {
   "cell_type": "code",
   "execution_count": 13,
   "metadata": {},
   "outputs": [
    {
     "name": "stdout",
     "output_type": "stream",
     "text": [
      "Load Config: foscam-hut.json\n"
     ]
    },
    {
     "data": {
      "text/plain": [
       "CONFIG: FoscamHut: = C:\\inetpub\\ftproot\\Camera\\FoscamHut\\FI9800P_00626E870C7B"
      ]
     },
     "execution_count": 13,
     "metadata": {},
     "output_type": "execute_result"
    }
   ],
   "source": [
    "configs = []\n",
    "for file in os.listdir('configs'):\n",
    "    print('Load Config: {}'.format(file))\n",
    "    config = CameraArchiveConfig()\n",
    "    config.fromJsonFile(os.path.join('configs', file))    \n",
    "    configs.append(config)\n",
    "    \n",
    "configs[0]"
   ]
  },
  {
   "cell_type": "code",
   "execution_count": 14,
   "metadata": {},
   "outputs": [],
   "source": [
    "%run FileArchiveInfo\n",
    "%run FileArchive\n",
    "files = []\n",
    "for root, dirnames, filenames in os.walk(config.path_from):\n",
    "    for filename in filenames: #fnmatch.filter(filenames, '*.c'):\n",
    "        config = configs[0]\n",
    "        file = FileArchive(config, root, filename)\n",
    "        files.append(file)"
   ]
  },
  {
   "cell_type": "code",
   "execution_count": 15,
   "metadata": {
    "scrolled": true
   },
   "outputs": [
    {
     "name": "stdout",
     "output_type": "stream",
     "text": [
      "\\record => \\2019-01\\31\\record\n",
      "\t - MDalarm_20190131_153707.mkv (1.265 MiB)\n",
      "FoscamHut@2019-01-31T14:37:07.000Z {\n",
      "    \"@timestamp\": \"2019-01-31T14:37:07.000Z\",\n",
      "    \"camera\": \"FoscamHut\",\n",
      "    \"doc\": \"event\",\n",
      "    \"ext\": \"mkv\",\n",
      "    \"path\": \"/CameraArchive/FoscamHut/2019-01/31/record/MDalarm_20190131_153707.mkv\",\n",
      "    \"position\": {\n",
      "        \"detail\": \"Hut roof\",\n",
      "        \"floor\": -1,\n",
      "        \"room\": \"Hut\"\n",
      "    },\n",
      "    \"sensor\": {\n",
      "        \"device\": \"Foscam FI9800P\",\n",
      "        \"display\": \"Foscam(.) Hut\",\n",
      "        \"id\": \"FoscamCameraArchiveFI9800P_00626E870C7B\",\n",
      "        \"is_external\": true,\n",
      "        \"type\": \"CameraArchive\",\n",
      "        \"unit\": \"bytes\"\n",
      "    },\n",
      "    \"tags\": [\n",
      "        \"synology_camera\",\n",
      "        \"python_camera_archiver\"\n",
      "    ],\n",
      "    \"value\": 1326715,\n",
      "    \"volume\": \"/volume2\"\n",
      "}\n"
     ]
    }
   ],
   "source": [
    "# lucen query : path:*MDAlarm_20190201\\-124005.jpg\n",
    "last_file_dir_relative_to = ''\n",
    "for file in files:\n",
    "    if last_file_dir_relative_to != file.to.dir_relative:\n",
    "        print('{} => {}'.format(file.frm.dir_relative, file.to.dir_relative))\n",
    "    print('\\t - {} ({})'.format(file.frm.filename, file.frm.size_human()))\n",
    "    # os.rename(\"path/to/current/file.foo\", \"path/to/new/destination/for/file.foo\")\n",
    "    # print(os.path.dirname(file.path_to))\n",
    "    #pprint(file.__dict__)\n",
    "    #os.makedirs(file.path_to, exist_ok=True)\n",
    "    #shutil.copy2(file.path_from, file.path_to)\n",
    "    report_to_elastic(file)\n",
    "    #last_file_dir_relative_to = file.dir_relative_to\n",
    "    break"
   ]
  },
  {
   "cell_type": "code",
   "execution_count": null,
   "metadata": {},
   "outputs": [],
   "source": []
  },
  {
   "cell_type": "code",
   "execution_count": null,
   "metadata": {},
   "outputs": [],
   "source": []
  }
 ],
 "metadata": {
  "kernelspec": {
   "display_name": "Python 3",
   "language": "python",
   "name": "python3"
  },
  "language_info": {
   "codemirror_mode": {
    "name": "ipython",
    "version": 3
   },
   "file_extension": ".py",
   "mimetype": "text/x-python",
   "name": "python",
   "nbconvert_exporter": "python",
   "pygments_lexer": "ipython3",
   "version": "3.6.7"
  }
 },
 "nbformat": 4,
 "nbformat_minor": 2
}
