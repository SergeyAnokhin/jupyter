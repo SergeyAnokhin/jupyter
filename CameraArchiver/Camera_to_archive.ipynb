{
 "cells": [
  {
   "cell_type": "code",
   "execution_count": 2,
   "metadata": {},
   "outputs": [],
   "source": [
    "import os\n",
    "import json\n",
    "import shutil\n",
    "import re\n",
    "import sys\n",
    "import datetime\n",
    "from CameraArchiveHelper import CameraArchiveHelper\n",
    "from pprint import pprint\n",
    "import json\n",
    "del CameraArchiveHelper\n",
    "%run CameraArchiveHelper\n",
    "%run CameraArchiveConfig\n",
    "%run FileArchiveInfo\n",
    "%run FileArchive"
   ]
  },
  {
   "cell_type": "code",
   "execution_count": 3,
   "metadata": {},
   "outputs": [
    {
     "name": "stdout",
     "output_type": "stream",
     "text": [
      "Load Config: konx-hd.json => KonxHD\n"
     ]
    },
    {
     "data": {
      "text/plain": [
       "[CONFIG: KonxHD: = C:\\inetpub\\ftproot\\Camera\\Konx\\video\\KonxHD]"
      ]
     },
     "execution_count": 3,
     "metadata": {},
     "output_type": "execute_result"
    }
   ],
   "source": [
    "helper = CameraArchiveHelper()\n",
    "# ['FoscamHut', 'FoscamPTZ', 'Foscam', 'FoscamPlay', 'DLinkCharles', 'DLinkFranck', 'KonxHD']\n",
    "configs = helper.load_configs('configs', ['KonxHD'])    \n",
    "configs"
   ]
  },
  {
   "cell_type": "code",
   "execution_count": 4,
   "metadata": {},
   "outputs": [
    {
     "name": "stdout",
     "output_type": "stream",
     "text": [
      "#################################################\n",
      "CONFIG: KonxHD: = C:\\inetpub\\ftproot\\Camera\\Konx\\video\\KonxHD\n",
      "Cant parse datetime in file : C:\\inetpub\\ftproot\\Camera\\Konx\\video\\KonxHD\\data.xml\n",
      "FileArchive creation error\n",
      "Ignore: C:\\inetpub\\ftproot\\Camera\\Konx\\video\\KonxHD\\thumbs\n",
      "749 files found\n",
      "\\ => \\2019-02\\03\n",
      "34 files moved. Total 1.956 Mb\n",
      "\\ => \\2019-02\\04\n",
      "119 files moved. Total 8.3 Mb\n",
      "\\ => \\2019-02\\05\n",
      "149 files moved. Total 10.51 Mb\n",
      "\\ => \\2019-02\\06\n",
      "72 files moved. Total 4.656 Mb\n",
      "\\grabs => \\2019-02\\03\n",
      "34 files moved. Total 421.9 Kb\n",
      "\\grabs => \\2019-02\\04\n",
      "119 files moved. Total 1.5 Mb\n",
      "\\grabs => \\2019-02\\05\n",
      "149 files moved. Total 1.859 Mb\n",
      "\\grabs => \\2019-02\\06\n",
      "73 files moved. Total 923.5 Kb\n",
      "########################################################\n"
     ]
    }
   ],
   "source": [
    "for config in configs:\n",
    "    print('#################################################')\n",
    "    print(config)\n",
    "    files = helper.get_files(config)\n",
    "    helper.move_files(files)"
   ]
  },
  {
   "cell_type": "code",
   "execution_count": 19,
   "metadata": {
    "scrolled": true
   },
   "outputs": [
    {
     "data": {
      "text/plain": [
       "['2019', '02', '03', '09']"
      ]
     },
     "execution_count": 19,
     "metadata": {},
     "output_type": "execute_result"
    }
   ],
   "source": [
    "# lucen query : path:*MDAlarm_20190201\\-124005.jpg '2019-02-03_09-11-26_598.jpg'\n",
    "groups = re.search(\"(20\\\\d\\\\d)[_-]?(\\\\d\\\\d)[_-]?(\\\\d\\\\d)[_-]?(\\\\d\\\\d)[_-]?(\\\\d\\\\d)[_-]?(\\\\d\\\\d)\", '2019-02-03_09-11-26_598.jpg') #'MDAlarm_20190201-124005.jpg')\n",
    "[ groups.group(1), groups.group(2), groups.group(3), groups.group(4) ]"
   ]
  },
  {
   "cell_type": "code",
   "execution_count": 8,
   "metadata": {},
   "outputs": [
    {
     "data": {
      "text/plain": [
       "'false'"
      ]
     },
     "execution_count": 8,
     "metadata": {},
     "output_type": "execute_result"
    }
   ],
   "source": [
    "import re\n",
    "'true' if re.search('aaa', 'bbb') else 'false'"
   ]
  },
  {
   "cell_type": "code",
   "execution_count": null,
   "metadata": {},
   "outputs": [],
   "source": []
  }
 ],
 "metadata": {
  "kernelspec": {
   "display_name": "Python 3",
   "language": "python",
   "name": "python3"
  }
 },
 "nbformat": 4,
 "nbformat_minor": 2
}
