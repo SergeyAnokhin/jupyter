{
 "cells": [
  {
   "cell_type": "code",
   "execution_count": 73,
   "metadata": {
    "collapsed": true
   },
   "outputs": [],
   "source": [
    "# TODO\n",
    "# 1. Add time_of_day to sequence\n",
    "# 2. Add day_of_week to sequence\n",
    "# 3. Time to analyse = time to foreign intervation ~ 15 min\n",
    "# 4. Two different modes to classifiy : with master or without\n",
    "\n",
    "# IDEE\n",
    "# 1. transform sequence in 'spectre': from event to values\n",
    "\n",
    "%matplotlib inline\n",
    "import matplotlib\n",
    "import matplotlib.pyplot as plt\n",
    "import numpy as np\n",
    "from sklearn.svm import SVC"
   ]
  },
  {
   "cell_type": "code",
   "execution_count": 163,
   "metadata": {},
   "outputs": [
    {
     "data": {
      "text/plain": [
       "'3.6.3 |Anaconda, Inc.| (default, Oct 15 2017, 07:29:16) [MSC v.1900 32 bit (Intel)]'"
      ]
     },
     "metadata": {},
     "output_type": "display_data"
    }
   ],
   "source": [
    "import sys\n",
    "display(sys.version)"
   ]
  },
  {
   "cell_type": "code",
   "execution_count": 139,
   "metadata": {},
   "outputs": [],
   "source": [
    "hall0ceiling = 1\n",
    "hall0door = 2\n",
    "extwall1camera = 3\n",
    "extwall1cameraPtz = 4\n",
    "corridor1ceiling = 5\n",
    "\n",
    "event_map = {\n",
    "    'hall0ceiling': 0,\n",
    "    'hall0door': 1,\n",
    "    'extwall1camera': 2,\n",
    "    'extwall1cameraPtz': 3,\n",
    "    'corridor1ceiling': 4\n",
    "}\n",
    "\n",
    "event_header = ['min_of_day', 'day_of_week']\n",
    "event_image = [\n",
    "    ['time_elapsed', 'hall0ceiling', 'hall0door', 'extwall1camera', 'extwall1cameraPtz', 'corridor1ceiling']\n",
    "]\n",
    "# table 2d : time vs eventNum\n"
   ]
  },
  {
   "cell_type": "code",
   "execution_count": 140,
   "metadata": {},
   "outputs": [
    {
     "data": {
      "text/plain": [
       "[[[1, 0, 0, 0, 0, 0, 0, 0, 0, 0],\n",
       "  [0, 1, 0, 0, 0, 0, 0, 0, 0, 0],\n",
       "  [0, 0, 0, 0, 1, 0, 0, 0, 0, 0],\n",
       "  [0, 0, 0, 0, 0, 0, 0, 0, 0, 0],\n",
       "  [0, 0, 0, 0, 0, 0, 0, 0, 0, 0],\n",
       "  [0, 0, 0, 0, 0, 0, 0, 0, 0, 0]],\n",
       " [[1, 0, 0, 0, 0, 0, 0, 0, 0, 0],\n",
       "  [0, 1, 0, 0, 0, 0, 0, 0, 0, 0],\n",
       "  [0, 0, 0, 0, 0, 0, 0, 0, 0, 1],\n",
       "  [0, 0, 0, 0, 0, 0, 0, 0, 0, 0],\n",
       "  [0, 0, 0, 0, 0, 0, 0, 0, 0, 0],\n",
       "  [0, 0, 0, 0, 0, 0, 0, 0, 0, 0]],\n",
       " [[1, 0, 0, 0, 0, 0, 0, 0, 0, 0],\n",
       "  [0, 0, 0, 0, 0, 0, 0, 0, 0, 0],\n",
       "  [0, 0, 0, 0, 0, 0, 0, 0, 0, 0],\n",
       "  [0, 0, 0, 0, 0, 0, 0, 0, 0, 0],\n",
       "  [0, 0, 0, 0, 0, 0, 0, 0, 0, 0],\n",
       "  [0, 0, 0, 0, 0, 0, 0, 0, 0, 0]],\n",
       " [[1, 0, 0, 0, 0, 0, 0, 0, 0, 0],\n",
       "  [0, 0, 0, 0, 0, 0, 0, 0, 0, 0],\n",
       "  [0, 0, 0, 0, 0, 0, 0, 0, 1, 0],\n",
       "  [0, 0, 0, 0, 0, 0, 0, 0, 0, 0],\n",
       "  [0, 0, 0, 0, 0, 0, 0, 0, 0, 0],\n",
       "  [0, 0, 0, 0, 0, 0, 0, 0, 0, 0]],\n",
       " [[1, 0, 0, 0, 0, 0, 0, 0, 0, 0],\n",
       "  [0, 0, 0, 0, 0, 0, 0, 0, 0, 0],\n",
       "  [0, 0, 0, 0, 0, 0, 0, 0, 0, 0],\n",
       "  [0, 0, 0, 0, 0, 0, 0, 0, 1, 0],\n",
       "  [0, 0, 0, 0, 0, 0, 0, 0, 0, 0],\n",
       "  [0, 0, 0, 0, 0, 0, 0, 0, 0, 0]],\n",
       " [[1, 0, 0, 0, 0, 0, 0, 0, 0, 0],\n",
       "  [0, 0, 0, 0, 0, 0, 0, 0, 0, 0],\n",
       "  [0, 0, 0, 0, 0, 0, 0, 0, 0, 0],\n",
       "  [0, 0, 0, 1, 0, 0, 0, 0, 0, 0],\n",
       "  [0, 0, 0, 0, 0, 0, 0, 0, 0, 0],\n",
       "  [0, 0, 0, 0, 0, 0, 0, 0, 0, 0]]]"
      ]
     },
     "metadata": {},
     "output_type": "display_data"
    }
   ],
   "source": [
    "def AddEvent(image, time_elapsed, event_type):\n",
    "    time = time_elapsed;\n",
    "    eventIndex = event_map[event_type]\n",
    "    image[eventIndex][time] = 1\n",
    "    # return event\n",
    "\n",
    "def CreateEmptyImage():\n",
    "    image = [\n",
    "        [0, 0, 0, 0, 0, 0, 0, 0, 0, 0],\n",
    "        [0, 0, 0, 0, 0, 0, 0, 0, 0, 0],\n",
    "        [0, 0, 0, 0, 0, 0, 0, 0, 0, 0],\n",
    "        [0, 0, 0, 0, 0, 0, 0, 0, 0, 0],\n",
    "        [0, 0, 0, 0, 0, 0, 0, 0, 0, 0],\n",
    "        [0, 0, 0, 0, 0, 0, 0, 0, 0, 0]\n",
    "        ]\n",
    "    return image\n",
    "\n",
    "images = []\n",
    "class_names = []\n",
    "\n",
    "image = CreateEmptyImage()\n",
    "AddEvent(image, 0, 'hall0ceiling')\n",
    "AddEvent(image, 1, 'hall0door')\n",
    "AddEvent(image, 4, 'extwall1camera')\n",
    "images.append(image)\n",
    "class_names.append('master_come')\n",
    "\n",
    "image = CreateEmptyImage()\n",
    "AddEvent(image, 0, 'hall0ceiling')\n",
    "AddEvent(image, 1, 'hall0door')\n",
    "AddEvent(image, 9, 'extwall1camera')\n",
    "images.append(image)\n",
    "class_names.append('master_come_with_children')\n",
    "\n",
    "image = CreateEmptyImage()\n",
    "AddEvent(image, 0, 'hall0ceiling')\n",
    "images.append(image)\n",
    "class_names.append('anomalie_hall')\n",
    "\n",
    "image = CreateEmptyImage()\n",
    "AddEvent(image, 0, 'hall0ceiling')\n",
    "AddEvent(image, 8, 'extwall1camera')\n",
    "images.append(image)\n",
    "class_names.append('alert')\n",
    "\n",
    "image = CreateEmptyImage()\n",
    "AddEvent(image, 0, 'hall0ceiling')\n",
    "AddEvent(image, 8, 'extwall1cameraPtz')\n",
    "images.append(image)\n",
    "class_names.append('alert')\n",
    "\n",
    "image = CreateEmptyImage()\n",
    "AddEvent(image, 0, 'hall0ceiling')\n",
    "AddEvent(image, 3, 'extwall1cameraPtz')\n",
    "images.append(image)\n",
    "class_names.append('alert')\n",
    "\n",
    "X = np.asarray(images).reshape(len(class_names), 60)\n",
    "Y = np.asarray(class_names)\n",
    "display(images)"
   ]
  },
  {
   "cell_type": "code",
   "execution_count": 138,
   "metadata": {},
   "outputs": [
    {
     "data": {
      "text/plain": [
       "array(['anomalie_hall'],\n",
       "      dtype='<U25')"
      ]
     },
     "execution_count": 138,
     "metadata": {},
     "output_type": "execute_result"
    }
   ],
   "source": [
    "image = CreateEmptyImage()\n",
    "AddEvent(image, 0, 'hall0ceiling')\n",
    "AddEvent(image, 5, 'extwall1cameraPtz')\n",
    "P_X = np.asarray(image).reshape(1, 60)\n",
    "\n",
    "classifier = SVC(kernel='rbf', class_weight='balanced')\n",
    "classifier.fit(X, Y)\n",
    "classifier.predict(P_X)"
   ]
  },
  {
   "cell_type": "code",
   "execution_count": 77,
   "metadata": {},
   "outputs": [
    {
     "data": {
      "text/plain": [
       "array([[ 0.,  0.,  0.,  0.,  0.,  0.,  0.,  0.,  0.,  0.],\n",
       "       [ 0.,  0.,  0.,  0.,  0.,  0.,  0.,  0.,  0.,  0.],\n",
       "       [ 0.,  0.,  0.,  0.,  0.,  0.,  0.,  0.,  0.,  0.],\n",
       "       [ 0.,  0.,  0.,  0.,  0.,  0.,  0.,  0.,  0.,  0.],\n",
       "       [ 0.,  0.,  0.,  0.,  0.,  0.,  0.,  0.,  0.,  0.],\n",
       "       [ 0.,  0.,  0.,  0.,  0.,  0.,  0.,  0.,  0.,  0.],\n",
       "       [ 0.,  0.,  0.,  0.,  0.,  0.,  0.,  0.,  0.,  0.],\n",
       "       [ 0.,  0.,  0.,  0.,  0.,  0.,  0.,  0.,  0.,  0.],\n",
       "       [ 0.,  0.,  0.,  0.,  0.,  0.,  0.,  0.,  0.,  0.],\n",
       "       [ 0.,  0.,  0.,  0.,  0.,  0.,  0.,  0.,  0.,  0.]])"
      ]
     },
     "metadata": {},
     "output_type": "display_data"
    }
   ],
   "source": [
    "display(np.zeros((10, 10)))"
   ]
  },
  {
   "cell_type": "code",
   "execution_count": 160,
   "metadata": {},
   "outputs": [
    {
     "data": {
      "text/plain": [
       "array([[1, 2, 0, 3, 0, 0, 0, 0, 0],\n",
       "       [1, 2, 0, 0, 0, 0, 0, 3, 0],\n",
       "       [1, 0, 0, 0, 0, 0, 0, 0, 0],\n",
       "       [1, 0, 0, 0, 0, 0, 0, 4, 0],\n",
       "       [1, 0, 0, 0, 0, 0, 0, 0, 5]])"
      ]
     },
     "metadata": {},
     "output_type": "display_data"
    }
   ],
   "source": [
    "imageMaster =     [1, 2, 0, 3, 0, 0, 0, 0, 0]\n",
    "imageMasterWith = [1, 2, 0, 0, 0, 0, 0, 3, 0]\n",
    "imageAnomalie   = [1, 0, 0, 0, 0, 0, 0, 0, 0]\n",
    "imageAlert1   =   [1, 0, 0, 0, 0, 0, 0, 4, 0]\n",
    "imageAlert2   =   [1, 0, 0, 0, 0, 0, 0, 0, 5]\n",
    "images = [imageMaster, imageMasterWith, imageAnomalie, imageAlert1, imageAlert2]\n",
    "classes = ['master', 'masterWith', 'anomalie', 'alert', 'alert']\n",
    "\n",
    "X = np.asarray(images, np.int).reshape(len(classes), 9)\n",
    "Y = np.asarray(classes)\n",
    "display(X)"
   ]
  },
  {
   "cell_type": "code",
   "execution_count": 161,
   "metadata": {},
   "outputs": [
    {
     "data": {
      "text/plain": [
       "array(['master'],\n",
       "      dtype='<U10')"
      ]
     },
     "execution_count": 161,
     "metadata": {},
     "output_type": "execute_result"
    }
   ],
   "source": [
    "classifier = SVC(kernel='rbf', class_weight='balanced')\n",
    "classifier.fit(X, Y)\n",
    "classifier.predict(np.asarray([1, 0, 0, 4, 0, 0, 0, 0, 0]).reshape(1,9))"
   ]
  }
 ],
 "metadata": {
  "kernelspec": {
   "display_name": "Python 3",
   "language": "python",
   "name": "python3"
  },
  "language_info": {
   "codemirror_mode": {
    "name": "ipython",
    "version": 3
   },
   "file_extension": ".py",
   "mimetype": "text/x-python",
   "name": "python",
   "nbconvert_exporter": "python",
   "pygments_lexer": "ipython3",
   "version": "3.6.3"
  }
 },
 "nbformat": 4,
 "nbformat_minor": 2
}
