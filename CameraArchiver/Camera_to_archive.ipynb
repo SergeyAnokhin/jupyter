{
 "cells": [
  {
   "cell_type": "code",
   "execution_count": 7,
   "metadata": {},
   "outputs": [],
   "source": [
    "import os\n",
    "import json\n",
    "import shutil\n",
    "import re\n",
    "import sys\n",
    "import datetime\n",
    "from CameraArchiveHelper import CameraArchiveHelper\n",
    "from pprint import pprint\n",
    "import json\n",
    "del CameraArchiveHelper\n",
    "%run CameraArchiveHelper\n",
    "%run CameraArchiveConfig\n",
    "%run FileArchiveInfo\n",
    "%run FileArchive"
   ]
  },
  {
   "cell_type": "code",
   "execution_count": 11,
   "metadata": {},
   "outputs": [
    {
     "name": "stdout",
     "output_type": "stream",
     "text": [
      "Load Config: foscam-dlink1.json => DLinkFranck\n"
     ]
    },
    {
     "data": {
      "text/plain": [
       "[CONFIG: DLinkFranck: = C:\\inetpub\\ftproot\\Camera\\DLinkFranck]"
      ]
     },
     "execution_count": 11,
     "metadata": {},
     "output_type": "execute_result"
    }
   ],
   "source": [
    "helper = CameraArchiveHelper()\n",
    "# ['FoscamHut', 'FoscamPTZ', 'Foscam', 'FoscamPlay', 'DLinkCharles', 'DLinkFranck']\n",
    "configs = helper.load_configs('configs', ['DLinkFranck'])    \n",
    "configs"
   ]
  },
  {
   "cell_type": "code",
   "execution_count": 12,
   "metadata": {},
   "outputs": [
    {
     "name": "stdout",
     "output_type": "stream",
     "text": [
      "#################################################\n",
      "CONFIG: DLinkFranck: = C:\\inetpub\\ftproot\\Camera\\DLinkFranck\n",
      "3795 files found\n",
      "\\ => \\2018-12\\04\n",
      "1 files moved. Total 5.534 KiB\n",
      "\\20190101 => \\2019-01\\01\n",
      "102 files moved. Total 1.091 MiB\n",
      "\\20190102 => \\2019-01\\02\n",
      "118 files moved. Total 1.216 MiB\n",
      "\\20190103 => \\2019-01\\03\n",
      "85 files moved. Total 857.3 KiB\n",
      "\\20190104 => \\2019-01\\04\n",
      "72 files moved. Total 788.4 KiB\n",
      "\\20190105 => \\2019-01\\05\n",
      "106 files moved. Total 1.443 MiB\n",
      "\\20190106 => \\2019-01\\06\n",
      "89 files moved. Total 809.4 KiB\n",
      "\\20190107 => \\2019-01\\07\n",
      "93 files moved. Total 977 KiB\n",
      "\\20190108 => \\2019-01\\08\n",
      "110 files moved. Total 1.293 MiB\n",
      "\\20190109 => \\2019-01\\09\n",
      "92 files moved. Total 1011 KiB\n",
      "\\20190110 => \\2019-01\\10\n",
      "83 files moved. Total 707.4 KiB\n",
      "\\20190111 => \\2019-01\\11\n",
      "83 files moved. Total 740.1 KiB\n",
      "\\20190112 => \\2019-01\\12\n",
      "108 files moved. Total 1.02 MiB\n",
      "\\20190113 => \\2019-01\\13\n",
      "105 files moved. Total 1.26 MiB\n",
      "\\20190114 => \\2019-01\\14\n",
      "68 files moved. Total 962.8 KiB\n",
      "\\20190115 => \\2019-01\\15\n",
      "84 files moved. Total 877.4 KiB\n",
      "\\20190116 => \\2019-01\\16\n",
      "87 files moved. Total 1009 KiB\n",
      "\\20190117 => \\2019-01\\17\n",
      "177 files moved. Total 2.284 MiB\n",
      "\\20190118 => \\2019-01\\18\n",
      "94 files moved. Total 985.6 KiB\n",
      "\\20190119 => \\2019-01\\19\n",
      "214 files moved. Total 2.284 MiB\n",
      "\\20190120 => \\2019-01\\20\n",
      "118 files moved. Total 1.215 MiB\n",
      "\\20190121 => \\2019-01\\21\n",
      "100 files moved. Total 969.1 KiB\n",
      "\\20190122 => \\2019-01\\22\n",
      "93 files moved. Total 850.6 KiB\n",
      "\\20190123 => \\2019-01\\23\n",
      "121 files moved. Total 1.205 MiB\n",
      "\\20190124 => \\2019-01\\24\n",
      "82 files moved. Total 1.024 MiB\n",
      "\\20190125 => \\2019-01\\25\n",
      "89 files moved. Total 946.2 KiB\n",
      "\\20190126 => \\2019-01\\26\n",
      "143 files moved. Total 1.781 MiB\n",
      "\\20190127 => \\2019-01\\27\n",
      "215 files moved. Total 2.585 MiB\n",
      "\\20190128 => \\2019-01\\28\n",
      "153 files moved. Total 2.212 MiB\n",
      "\\20190129 => \\2019-01\\29\n",
      "73 files moved. Total 993.5 KiB\n",
      "\\20190130 => \\2019-01\\30\n",
      "74 files moved. Total 743.8 KiB\n",
      "\\20190131 => \\2019-01\\31\n",
      "90 files moved. Total 1.103 MiB\n",
      "\\20190201 => \\2019-02\\01\n",
      "127 files moved. Total 1.724 MiB\n",
      "\\20190202 => \\2019-02\\02\n",
      "106 files moved. Total 1.178 MiB\n",
      "\\20190203 => \\2019-02\\03\n",
      "216 files moved. Total 2.819 MiB\n",
      "\\20190204 => \\2019-02\\04\n",
      "24 files moved. Total 223.8 KiB\n",
      "########################################################\n"
     ]
    }
   ],
   "source": [
    "for config in configs:\n",
    "    print('#################################################')\n",
    "    print(config)\n",
    "    files = helper.get_files(config)\n",
    "    helper.move_files(files)"
   ]
  },
  {
   "cell_type": "code",
   "execution_count": null,
   "metadata": {
    "scrolled": true
   },
   "outputs": [],
   "source": [
    "# lucen query : path:*MDAlarm_20190201\\-124005.jpg\n"
   ]
  },
  {
   "cell_type": "code",
   "execution_count": 8,
   "metadata": {},
   "outputs": [
    {
     "data": {
      "text/plain": [
       "'false'"
      ]
     },
     "execution_count": 8,
     "metadata": {},
     "output_type": "execute_result"
    }
   ],
   "source": [
    "import re\n",
    "'true' if re.search('aaa', 'bbb') else 'false'"
   ]
  },
  {
   "cell_type": "code",
   "execution_count": null,
   "metadata": {},
   "outputs": [],
   "source": []
  }
 ],
 "metadata": {
  "kernelspec": {
   "display_name": "Python 3",
   "language": "python",
   "name": "python3"
  },
  "language_info": {
   "codemirror_mode": {
    "name": "ipython",
    "version": 3
   },
   "file_extension": ".py",
   "mimetype": "text/x-python",
   "name": "python",
   "nbconvert_exporter": "python",
   "pygments_lexer": "ipython3",
   "version": "3.6.7"
  }
 },
 "nbformat": 4,
 "nbformat_minor": 2
}
